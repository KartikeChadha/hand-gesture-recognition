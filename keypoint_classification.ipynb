{
 "cells": [
  {
   "cell_type": "code",
   "execution_count": 1,
   "metadata": {},
   "outputs": [
    {
     "name": "stdout",
     "output_type": "stream",
     "text": [
      "Requirement already satisfied: mediapipe in /home/kartike/.local/lib/python3.8/site-packages (0.9.2.1)\n",
      "Requirement already satisfied: flatbuffers>=2.0 in /home/kartike/.local/lib/python3.8/site-packages (from mediapipe) (23.3.3)\n",
      "Requirement already satisfied: opencv-contrib-python in /home/kartike/.local/lib/python3.8/site-packages (from mediapipe) (4.7.0.72)\n",
      "Requirement already satisfied: attrs>=19.1.0 in /home/kartike/.local/lib/python3.8/site-packages (from mediapipe) (22.2.0)\n",
      "Requirement already satisfied: numpy in /home/kartike/.local/lib/python3.8/site-packages (from mediapipe) (1.23.5)\n",
      "Requirement already satisfied: protobuf<4,>=3.11 in /home/kartike/.local/lib/python3.8/site-packages (from mediapipe) (3.20.3)\n",
      "Requirement already satisfied: matplotlib in /home/kartike/.local/lib/python3.8/site-packages (from mediapipe) (3.7.1)\n",
      "Requirement already satisfied: absl-py in /home/kartike/.local/lib/python3.8/site-packages (from mediapipe) (1.4.0)\n",
      "Requirement already satisfied: pyparsing>=2.3.1 in /home/kartike/.local/lib/python3.8/site-packages (from matplotlib->mediapipe) (3.0.9)\n",
      "Requirement already satisfied: pillow>=6.2.0 in /usr/lib/python3/dist-packages (from matplotlib->mediapipe) (7.0.0)\n",
      "Requirement already satisfied: packaging>=20.0 in /home/kartike/.local/lib/python3.8/site-packages (from matplotlib->mediapipe) (23.0)\n",
      "Requirement already satisfied: contourpy>=1.0.1 in /home/kartike/.local/lib/python3.8/site-packages (from matplotlib->mediapipe) (1.0.7)\n",
      "Requirement already satisfied: fonttools>=4.22.0 in /home/kartike/.local/lib/python3.8/site-packages (from matplotlib->mediapipe) (4.39.3)\n",
      "Requirement already satisfied: importlib-resources>=3.2.0; python_version < \"3.10\" in /home/kartike/.local/lib/python3.8/site-packages (from matplotlib->mediapipe) (5.12.0)\n",
      "Requirement already satisfied: kiwisolver>=1.0.1 in /home/kartike/.local/lib/python3.8/site-packages (from matplotlib->mediapipe) (1.4.4)\n",
      "Requirement already satisfied: python-dateutil>=2.7 in /home/kartike/.local/lib/python3.8/site-packages (from matplotlib->mediapipe) (2.8.2)\n",
      "Requirement already satisfied: cycler>=0.10 in /home/kartike/.local/lib/python3.8/site-packages (from matplotlib->mediapipe) (0.11.0)\n",
      "Requirement already satisfied: zipp>=3.1.0; python_version < \"3.10\" in /home/kartike/.local/lib/python3.8/site-packages (from importlib-resources>=3.2.0; python_version < \"3.10\"->matplotlib->mediapipe) (3.15.0)\n",
      "Requirement already satisfied: six>=1.5 in /usr/lib/python3/dist-packages (from python-dateutil>=2.7->matplotlib->mediapipe) (1.14.0)\n",
      "Note: you may need to restart the kernel to use updated packages.\n"
     ]
    }
   ],
   "source": [
    "%pip install mediap\n"
   ]
  },
  {
   "cell_type": "code",
   "execution_count": 151,
   "metadata": {},
   "outputs": [],
   "source": [
    "import csv\n",
    "\n",
    "import numpy as np\n",
    "import tensorflow as tf\n",
    "from sklearn.model_selection import train_test_split\n",
    "\n",
    "RANDOM_SEED = 42"
   ]
  },
  {
   "cell_type": "markdown",
   "metadata": {},
   "source": [
    "# 各パス指定"
   ]
  },
  {
   "cell_type": "code",
   "execution_count": 152,
   "metadata": {},
   "outputs": [],
   "source": [
    "dataset = 'model/keypoint_classifier/keypoints.csv'\n",
    "model_save_path = 'model/keypoint_classifier/keypoint_classifier.hdf5'"
   ]
  },
  {
   "cell_type": "markdown",
   "metadata": {},
   "source": [
    "# 分類数設定"
   ]
  },
  {
   "cell_type": "code",
   "execution_count": 154,
   "metadata": {},
   "outputs": [],
   "source": [
    "NUM_CLASSES = 5"
   ]
  },
  {
   "cell_type": "markdown",
   "metadata": {},
   "source": [
    "# 学習データ読み込み"
   ]
  },
  {
   "cell_type": "code",
   "execution_count": 155,
   "metadata": {},
   "outputs": [],
   "source": [
    "X_dataset = np.loadtxt(dataset, delimiter=',', dtype='float32', usecols=list(range(1, (21 * 2) + 1)))"
   ]
  },
  {
   "cell_type": "code",
   "execution_count": 156,
   "metadata": {},
   "outputs": [],
   "source": [
    "y_dataset = np.loadtxt(dataset, delimiter=',', dtype='int32', usecols=(0))"
   ]
  },
  {
   "cell_type": "code",
   "execution_count": 157,
   "metadata": {},
   "outputs": [],
   "source": [
    "X_train, X_test, y_train, y_test = train_test_split(X_dataset, y_dataset, train_size=0.75, random_state=RANDOM_SEED)"
   ]
  },
  {
   "cell_type": "markdown",
   "metadata": {},
   "source": [
    "# モデル構築"
   ]
  },
  {
   "cell_type": "code",
   "execution_count": 158,
   "metadata": {},
   "outputs": [],
   "source": [
    "model = tf.keras.models.Sequential([\n",
    "    tf.keras.layers.Input((21 * 2, )),\n",
    "    tf.keras.layers.Dropout(0.2),\n",
    "    tf.keras.layers.Dense(20, activation='relu'),\n",
    "    tf.keras.layers.Dropout(0.4),\n",
    "    tf.keras.layers.Dense(10, activation='relu'),\n",
    "    tf.keras.layers.Dense(NUM_CLASSES, activation='softmax')\n",
    "])"
   ]
  },
  {
   "cell_type": "code",
   "execution_count": 159,
   "metadata": {},
   "outputs": [
    {
     "name": "stdout",
     "output_type": "stream",
     "text": [
      "Model: \"sequential_8\"\n",
      "_________________________________________________________________\n",
      " Layer (type)                Output Shape              Param #   \n",
      "=================================================================\n",
      " dropout_16 (Dropout)        (None, 42)                0         \n",
      "                                                                 \n",
      " dense_24 (Dense)            (None, 20)                860       \n",
      "                                                                 \n",
      " dropout_17 (Dropout)        (None, 20)                0         \n",
      "                                                                 \n",
      " dense_25 (Dense)            (None, 10)                210       \n",
      "                                                                 \n",
      " dense_26 (Dense)            (None, 5)                 55        \n",
      "                                                                 \n",
      "=================================================================\n",
      "Total params: 1,125\n",
      "Trainable params: 1,125\n",
      "Non-trainable params: 0\n",
      "_________________________________________________________________\n"
     ]
    }
   ],
   "source": [
    "model.summary()  # tf.keras.utils.plot_model(model, show_shapes=True)"
   ]
  },
  {
   "cell_type": "code",
   "execution_count": 160,
   "metadata": {},
   "outputs": [],
   "source": [
    "# モデルチェックポイントのコールバック\n",
    "cp_callback = tf.keras.callbacks.ModelCheckpoint(\n",
    "    model_save_path, verbose=1, save_weights_only=False)\n",
    "# 早期打ち切り用コールバック\n",
    "es_callback = tf.keras.callbacks.EarlyStopping(patience=20, verbose=1)"
   ]
  },
  {
   "cell_type": "code",
   "execution_count": 161,
   "metadata": {},
   "outputs": [],
   "source": [
    "# モデルコンパイル\n",
    "model.compile(\n",
    "    optimizer='adam',\n",
    "    loss='sparse_categorical_crossentropy',\n",
    "    metrics=['accuracy']\n",
    ")"
   ]
  },
  {
   "cell_type": "markdown",
   "metadata": {},
   "source": [
    "# モデル訓練"
   ]
  },
  {
   "cell_type": "code",
   "execution_count": 162,
   "metadata": {
    "scrolled": true
   },
   "outputs": [
    {
     "name": "stdout",
     "output_type": "stream",
     "text": [
      "Epoch 1/1000\n",
      "27/35 [======================>.......] - ETA: 0s - loss: 1.4279 - accuracy: 0.4074\n",
      "Epoch 1: saving model to model/keypoint_classifier/keypoint_classifier.hdf5\n",
      "35/35 [==============================] - 3s 20ms/step - loss: 1.3934 - accuracy: 0.4345 - val_loss: 1.1242 - val_accuracy: 0.5606\n",
      "Epoch 2/1000\n",
      "27/35 [======================>.......] - ETA: 0s - loss: 1.1723 - accuracy: 0.5376\n",
      "Epoch 2: saving model to model/keypoint_classifier/keypoint_classifier.hdf5\n",
      "35/35 [==============================] - 0s 10ms/step - loss: 1.1635 - accuracy: 0.5342 - val_loss: 0.9670 - val_accuracy: 0.5544\n",
      "Epoch 3/1000\n",
      "28/35 [=======================>......] - ETA: 0s - loss: 1.0555 - accuracy: 0.5421\n",
      "Epoch 3: saving model to model/keypoint_classifier/keypoint_classifier.hdf5\n",
      "35/35 [==============================] - 0s 10ms/step - loss: 1.0454 - accuracy: 0.5443 - val_loss: 0.8625 - val_accuracy: 0.5544\n",
      "Epoch 4/1000\n",
      "35/35 [==============================] - ETA: 0s - loss: 0.9669 - accuracy: 0.5516\n",
      "Epoch 4: saving model to model/keypoint_classifier/keypoint_classifier.hdf5\n",
      "35/35 [==============================] - 0s 10ms/step - loss: 0.9669 - accuracy: 0.5516 - val_loss: 0.7822 - val_accuracy: 0.5551\n",
      "Epoch 5/1000\n",
      "32/35 [==========================>...] - ETA: 0s - loss: 0.9032 - accuracy: 0.5808\n",
      "Epoch 5: saving model to model/keypoint_classifier/keypoint_classifier.hdf5\n",
      "35/35 [==============================] - 0s 10ms/step - loss: 0.9006 - accuracy: 0.5812 - val_loss: 0.7113 - val_accuracy: 0.5619\n",
      "Epoch 6/1000\n",
      "33/35 [===========================>..] - ETA: 0s - loss: 0.8379 - accuracy: 0.6217\n",
      "Epoch 6: saving model to model/keypoint_classifier/keypoint_classifier.hdf5\n",
      "35/35 [==============================] - 0s 13ms/step - loss: 0.8346 - accuracy: 0.6255 - val_loss: 0.6369 - val_accuracy: 0.6585\n",
      "Epoch 7/1000\n",
      "27/35 [======================>.......] - ETA: 0s - loss: 0.7959 - accuracy: 0.6641\n",
      "Epoch 7: saving model to model/keypoint_classifier/keypoint_classifier.hdf5\n",
      "35/35 [==============================] - 0s 12ms/step - loss: 0.7904 - accuracy: 0.6670 - val_loss: 0.5640 - val_accuracy: 0.7878\n",
      "Epoch 8/1000\n",
      "30/35 [========================>.....] - ETA: 0s - loss: 0.7545 - accuracy: 0.6805\n",
      "Epoch 8: saving model to model/keypoint_classifier/keypoint_classifier.hdf5\n",
      "35/35 [==============================] - 0s 10ms/step - loss: 0.7494 - accuracy: 0.6835 - val_loss: 0.4984 - val_accuracy: 0.8193\n",
      "Epoch 9/1000\n",
      "27/35 [======================>.......] - ETA: 0s - loss: 0.6802 - accuracy: 0.7245\n",
      "Epoch 9: saving model to model/keypoint_classifier/keypoint_classifier.hdf5\n",
      "35/35 [==============================] - 0s 10ms/step - loss: 0.6814 - accuracy: 0.7202 - val_loss: 0.4316 - val_accuracy: 0.8056\n",
      "Epoch 10/1000\n",
      "30/35 [========================>.....] - ETA: 0s - loss: 0.6551 - accuracy: 0.7365\n",
      "Epoch 10: saving model to model/keypoint_classifier/keypoint_classifier.hdf5\n",
      "35/35 [==============================] - 0s 10ms/step - loss: 0.6576 - accuracy: 0.7355 - val_loss: 0.3794 - val_accuracy: 0.8700\n",
      "Epoch 11/1000\n",
      "29/35 [=======================>......] - ETA: 0s - loss: 0.5967 - accuracy: 0.7508\n",
      "Epoch 11: saving model to model/keypoint_classifier/keypoint_classifier.hdf5\n",
      "35/35 [==============================] - 0s 10ms/step - loss: 0.5992 - accuracy: 0.7533 - val_loss: 0.3334 - val_accuracy: 0.9103\n",
      "Epoch 12/1000\n",
      "34/35 [============================>.] - ETA: 0s - loss: 0.5722 - accuracy: 0.7705\n",
      "Epoch 12: saving model to model/keypoint_classifier/keypoint_classifier.hdf5\n",
      "35/35 [==============================] - 0s 11ms/step - loss: 0.5739 - accuracy: 0.7695 - val_loss: 0.3084 - val_accuracy: 0.8768\n",
      "Epoch 13/1000\n",
      "33/35 [===========================>..] - ETA: 0s - loss: 0.5547 - accuracy: 0.7791\n",
      "Epoch 13: saving model to model/keypoint_classifier/keypoint_classifier.hdf5\n",
      "35/35 [==============================] - 0s 11ms/step - loss: 0.5546 - accuracy: 0.7805 - val_loss: 0.2858 - val_accuracy: 0.9363\n",
      "Epoch 14/1000\n",
      "26/35 [=====================>........] - ETA: 0s - loss: 0.5569 - accuracy: 0.7812\n",
      "Epoch 14: saving model to model/keypoint_classifier/keypoint_classifier.hdf5\n",
      "35/35 [==============================] - 0s 11ms/step - loss: 0.5549 - accuracy: 0.7814 - val_loss: 0.2676 - val_accuracy: 0.9363\n",
      "Epoch 15/1000\n",
      "31/35 [=========================>....] - ETA: 0s - loss: 0.5107 - accuracy: 0.7999\n",
      "Epoch 15: saving model to model/keypoint_classifier/keypoint_classifier.hdf5\n",
      "35/35 [==============================] - 0s 10ms/step - loss: 0.5104 - accuracy: 0.8012 - val_loss: 0.2381 - val_accuracy: 0.9562\n",
      "Epoch 16/1000\n",
      "27/35 [======================>.......] - ETA: 0s - loss: 0.5199 - accuracy: 0.7905\n",
      "Epoch 16: saving model to model/keypoint_classifier/keypoint_classifier.hdf5\n",
      "35/35 [==============================] - 0s 10ms/step - loss: 0.5152 - accuracy: 0.7951 - val_loss: 0.2315 - val_accuracy: 0.9446\n",
      "Epoch 17/1000\n",
      "27/35 [======================>.......] - ETA: 0s - loss: 0.5009 - accuracy: 0.8009\n",
      "Epoch 17: saving model to model/keypoint_classifier/keypoint_classifier.hdf5\n",
      "35/35 [==============================] - 0s 10ms/step - loss: 0.5006 - accuracy: 0.8001 - val_loss: 0.2266 - val_accuracy: 0.9391\n",
      "Epoch 18/1000\n",
      "27/35 [======================>.......] - ETA: 0s - loss: 0.5001 - accuracy: 0.8070\n",
      "Epoch 18: saving model to model/keypoint_classifier/keypoint_classifier.hdf5\n",
      "35/35 [==============================] - 0s 11ms/step - loss: 0.5019 - accuracy: 0.8063 - val_loss: 0.2182 - val_accuracy: 0.9493\n",
      "Epoch 19/1000\n",
      "35/35 [==============================] - ETA: 0s - loss: 0.4886 - accuracy: 0.8081\n",
      "Epoch 19: saving model to model/keypoint_classifier/keypoint_classifier.hdf5\n",
      "35/35 [==============================] - 0s 12ms/step - loss: 0.4886 - accuracy: 0.8081 - val_loss: 0.2104 - val_accuracy: 0.9507\n",
      "Epoch 20/1000\n",
      "29/35 [=======================>......] - ETA: 0s - loss: 0.4694 - accuracy: 0.8276\n",
      "Epoch 20: saving model to model/keypoint_classifier/keypoint_classifier.hdf5\n",
      "35/35 [==============================] - 0s 10ms/step - loss: 0.4704 - accuracy: 0.8252 - val_loss: 0.1951 - val_accuracy: 0.9576\n",
      "Epoch 21/1000\n",
      "29/35 [=======================>......] - ETA: 0s - loss: 0.4661 - accuracy: 0.8281\n",
      "Epoch 21: saving model to model/keypoint_classifier/keypoint_classifier.hdf5\n",
      "35/35 [==============================] - 0s 12ms/step - loss: 0.4761 - accuracy: 0.8229 - val_loss: 0.1953 - val_accuracy: 0.9528\n",
      "Epoch 22/1000\n",
      "32/35 [==========================>...] - ETA: 0s - loss: 0.4441 - accuracy: 0.8350\n",
      "Epoch 22: saving model to model/keypoint_classifier/keypoint_classifier.hdf5\n",
      "35/35 [==============================] - 0s 11ms/step - loss: 0.4489 - accuracy: 0.8355 - val_loss: 0.1811 - val_accuracy: 0.9603\n",
      "Epoch 23/1000\n",
      "28/35 [=======================>......] - ETA: 0s - loss: 0.4533 - accuracy: 0.8315\n",
      "Epoch 23: saving model to model/keypoint_classifier/keypoint_classifier.hdf5\n",
      "35/35 [==============================] - 0s 10ms/step - loss: 0.4534 - accuracy: 0.8307 - val_loss: 0.1714 - val_accuracy: 0.9651\n",
      "Epoch 24/1000\n",
      "29/35 [=======================>......] - ETA: 0s - loss: 0.4445 - accuracy: 0.8316\n",
      "Epoch 24: saving model to model/keypoint_classifier/keypoint_classifier.hdf5\n",
      "35/35 [==============================] - 0s 10ms/step - loss: 0.4448 - accuracy: 0.8341 - val_loss: 0.1764 - val_accuracy: 0.9644\n",
      "Epoch 25/1000\n",
      "35/35 [==============================] - ETA: 0s - loss: 0.4251 - accuracy: 0.8398\n",
      "Epoch 25: saving model to model/keypoint_classifier/keypoint_classifier.hdf5\n",
      "35/35 [==============================] - 0s 11ms/step - loss: 0.4251 - accuracy: 0.8398 - val_loss: 0.1534 - val_accuracy: 0.9678\n",
      "Epoch 26/1000\n",
      "29/35 [=======================>......] - ETA: 0s - loss: 0.4348 - accuracy: 0.8359\n",
      "Epoch 26: saving model to model/keypoint_classifier/keypoint_classifier.hdf5\n",
      "35/35 [==============================] - 0s 10ms/step - loss: 0.4327 - accuracy: 0.8348 - val_loss: 0.1573 - val_accuracy: 0.9665\n",
      "Epoch 27/1000\n",
      "33/35 [===========================>..] - ETA: 0s - loss: 0.4183 - accuracy: 0.8390\n",
      "Epoch 27: saving model to model/keypoint_classifier/keypoint_classifier.hdf5\n",
      "35/35 [==============================] - 0s 14ms/step - loss: 0.4181 - accuracy: 0.8382 - val_loss: 0.1523 - val_accuracy: 0.9678\n",
      "Epoch 28/1000\n",
      "27/35 [======================>.......] - ETA: 0s - loss: 0.4181 - accuracy: 0.8443\n",
      "Epoch 28: saving model to model/keypoint_classifier/keypoint_classifier.hdf5\n",
      "35/35 [==============================] - 0s 10ms/step - loss: 0.4220 - accuracy: 0.8446 - val_loss: 0.1536 - val_accuracy: 0.9665\n",
      "Epoch 29/1000\n",
      "32/35 [==========================>...] - ETA: 0s - loss: 0.4167 - accuracy: 0.8445\n",
      "Epoch 29: saving model to model/keypoint_classifier/keypoint_classifier.hdf5\n",
      "35/35 [==============================] - 0s 10ms/step - loss: 0.4166 - accuracy: 0.8437 - val_loss: 0.1535 - val_accuracy: 0.9637\n",
      "Epoch 30/1000\n",
      "27/35 [======================>.......] - ETA: 0s - loss: 0.3997 - accuracy: 0.8530\n",
      "Epoch 30: saving model to model/keypoint_classifier/keypoint_classifier.hdf5\n",
      "35/35 [==============================] - 0s 10ms/step - loss: 0.3956 - accuracy: 0.8551 - val_loss: 0.1358 - val_accuracy: 0.9719\n",
      "Epoch 31/1000\n",
      "30/35 [========================>.....] - ETA: 0s - loss: 0.3899 - accuracy: 0.8526\n",
      "Epoch 31: saving model to model/keypoint_classifier/keypoint_classifier.hdf5\n",
      "35/35 [==============================] - 0s 9ms/step - loss: 0.3982 - accuracy: 0.8512 - val_loss: 0.1508 - val_accuracy: 0.9630\n",
      "Epoch 32/1000\n",
      "33/35 [===========================>..] - ETA: 0s - loss: 0.3947 - accuracy: 0.8539\n",
      "Epoch 32: saving model to model/keypoint_classifier/keypoint_classifier.hdf5\n",
      "35/35 [==============================] - 0s 9ms/step - loss: 0.3975 - accuracy: 0.8537 - val_loss: 0.1366 - val_accuracy: 0.9692\n",
      "Epoch 33/1000\n",
      "28/35 [=======================>......] - ETA: 0s - loss: 0.3951 - accuracy: 0.8605\n",
      "Epoch 33: saving model to model/keypoint_classifier/keypoint_classifier.hdf5\n",
      "35/35 [==============================] - 0s 9ms/step - loss: 0.4005 - accuracy: 0.8565 - val_loss: 0.1335 - val_accuracy: 0.9685\n",
      "Epoch 34/1000\n",
      "28/35 [=======================>......] - ETA: 0s - loss: 0.4131 - accuracy: 0.8438\n",
      "Epoch 34: saving model to model/keypoint_classifier/keypoint_classifier.hdf5\n",
      "35/35 [==============================] - 0s 9ms/step - loss: 0.4123 - accuracy: 0.8441 - val_loss: 0.1462 - val_accuracy: 0.9665\n",
      "Epoch 35/1000\n",
      "25/35 [====================>.........] - ETA: 0s - loss: 0.3945 - accuracy: 0.8516\n",
      "Epoch 35: saving model to model/keypoint_classifier/keypoint_classifier.hdf5\n",
      "35/35 [==============================] - 0s 11ms/step - loss: 0.3936 - accuracy: 0.8549 - val_loss: 0.1388 - val_accuracy: 0.9678\n",
      "Epoch 36/1000\n",
      "34/35 [============================>.] - ETA: 0s - loss: 0.3923 - accuracy: 0.8536\n",
      "Epoch 36: saving model to model/keypoint_classifier/keypoint_classifier.hdf5\n",
      "35/35 [==============================] - 0s 9ms/step - loss: 0.3916 - accuracy: 0.8539 - val_loss: 0.1306 - val_accuracy: 0.9692\n",
      "Epoch 37/1000\n",
      "28/35 [=======================>......] - ETA: 0s - loss: 0.3775 - accuracy: 0.8583\n",
      "Epoch 37: saving model to model/keypoint_classifier/keypoint_classifier.hdf5\n",
      "35/35 [==============================] - 0s 9ms/step - loss: 0.3741 - accuracy: 0.8601 - val_loss: 0.1260 - val_accuracy: 0.9699\n",
      "Epoch 38/1000\n",
      "32/35 [==========================>...] - ETA: 0s - loss: 0.3785 - accuracy: 0.8557\n",
      "Epoch 38: saving model to model/keypoint_classifier/keypoint_classifier.hdf5\n",
      "35/35 [==============================] - 0s 9ms/step - loss: 0.3739 - accuracy: 0.8585 - val_loss: 0.1239 - val_accuracy: 0.9740\n",
      "Epoch 39/1000\n",
      "29/35 [=======================>......] - ETA: 0s - loss: 0.3708 - accuracy: 0.8602\n",
      "Epoch 39: saving model to model/keypoint_classifier/keypoint_classifier.hdf5\n",
      "35/35 [==============================] - 0s 10ms/step - loss: 0.3664 - accuracy: 0.8626 - val_loss: 0.1211 - val_accuracy: 0.9719\n",
      "Epoch 40/1000\n",
      "30/35 [========================>.....] - ETA: 0s - loss: 0.3818 - accuracy: 0.8586\n",
      "Epoch 40: saving model to model/keypoint_classifier/keypoint_classifier.hdf5\n",
      "35/35 [==============================] - 0s 9ms/step - loss: 0.3844 - accuracy: 0.8583 - val_loss: 0.1265 - val_accuracy: 0.9719\n",
      "Epoch 41/1000\n",
      "31/35 [=========================>....] - ETA: 0s - loss: 0.3707 - accuracy: 0.8606\n",
      "Epoch 41: saving model to model/keypoint_classifier/keypoint_classifier.hdf5\n",
      "35/35 [==============================] - 0s 9ms/step - loss: 0.3724 - accuracy: 0.8599 - val_loss: 0.1316 - val_accuracy: 0.9678\n",
      "Epoch 42/1000\n",
      "33/35 [===========================>..] - ETA: 0s - loss: 0.3593 - accuracy: 0.8750\n",
      "Epoch 42: saving model to model/keypoint_classifier/keypoint_classifier.hdf5\n",
      "35/35 [==============================] - 0s 9ms/step - loss: 0.3587 - accuracy: 0.8754 - val_loss: 0.1366 - val_accuracy: 0.9630\n",
      "Epoch 43/1000\n",
      "30/35 [========================>.....] - ETA: 0s - loss: 0.3617 - accuracy: 0.8664\n",
      "Epoch 43: saving model to model/keypoint_classifier/keypoint_classifier.hdf5\n",
      "35/35 [==============================] - 0s 9ms/step - loss: 0.3600 - accuracy: 0.8667 - val_loss: 0.1151 - val_accuracy: 0.9733\n",
      "Epoch 44/1000\n",
      "31/35 [=========================>....] - ETA: 0s - loss: 0.3582 - accuracy: 0.8657\n",
      "Epoch 44: saving model to model/keypoint_classifier/keypoint_classifier.hdf5\n",
      "35/35 [==============================] - 0s 9ms/step - loss: 0.3613 - accuracy: 0.8642 - val_loss: 0.1200 - val_accuracy: 0.9692\n",
      "Epoch 45/1000\n",
      "34/35 [============================>.] - ETA: 0s - loss: 0.3447 - accuracy: 0.8720\n",
      "Epoch 45: saving model to model/keypoint_classifier/keypoint_classifier.hdf5\n",
      "35/35 [==============================] - 0s 11ms/step - loss: 0.3436 - accuracy: 0.8724 - val_loss: 0.1104 - val_accuracy: 0.9747\n",
      "Epoch 46/1000\n",
      "31/35 [=========================>....] - ETA: 0s - loss: 0.3508 - accuracy: 0.8715\n",
      "Epoch 46: saving model to model/keypoint_classifier/keypoint_classifier.hdf5\n",
      "35/35 [==============================] - 0s 9ms/step - loss: 0.3458 - accuracy: 0.8745 - val_loss: 0.1116 - val_accuracy: 0.9767\n",
      "Epoch 47/1000\n",
      "32/35 [==========================>...] - ETA: 0s - loss: 0.3590 - accuracy: 0.8694\n",
      "Epoch 47: saving model to model/keypoint_classifier/keypoint_classifier.hdf5\n",
      "35/35 [==============================] - 0s 9ms/step - loss: 0.3606 - accuracy: 0.8688 - val_loss: 0.1166 - val_accuracy: 0.9747\n",
      "Epoch 48/1000\n",
      "33/35 [===========================>..] - ETA: 0s - loss: 0.3511 - accuracy: 0.8724\n",
      "Epoch 48: saving model to model/keypoint_classifier/keypoint_classifier.hdf5\n",
      "35/35 [==============================] - 0s 9ms/step - loss: 0.3485 - accuracy: 0.8733 - val_loss: 0.1181 - val_accuracy: 0.9719\n",
      "Epoch 49/1000\n",
      "33/35 [===========================>..] - ETA: 0s - loss: 0.3452 - accuracy: 0.8731\n",
      "Epoch 49: saving model to model/keypoint_classifier/keypoint_classifier.hdf5\n",
      "35/35 [==============================] - 0s 9ms/step - loss: 0.3426 - accuracy: 0.8736 - val_loss: 0.1164 - val_accuracy: 0.9706\n",
      "Epoch 50/1000\n",
      "34/35 [============================>.] - ETA: 0s - loss: 0.3509 - accuracy: 0.8642\n",
      "Epoch 50: saving model to model/keypoint_classifier/keypoint_classifier.hdf5\n",
      "35/35 [==============================] - 0s 8ms/step - loss: 0.3509 - accuracy: 0.8642 - val_loss: 0.1100 - val_accuracy: 0.9747\n",
      "Epoch 51/1000\n",
      "24/35 [===================>..........] - ETA: 0s - loss: 0.3418 - accuracy: 0.8711\n",
      "Epoch 51: saving model to model/keypoint_classifier/keypoint_classifier.hdf5\n",
      "35/35 [==============================] - 0s 8ms/step - loss: 0.3405 - accuracy: 0.8717 - val_loss: 0.1196 - val_accuracy: 0.9685\n",
      "Epoch 52/1000\n",
      "32/35 [==========================>...] - ETA: 0s - loss: 0.3502 - accuracy: 0.8704\n",
      "Epoch 52: saving model to model/keypoint_classifier/keypoint_classifier.hdf5\n",
      "35/35 [==============================] - 0s 9ms/step - loss: 0.3487 - accuracy: 0.8722 - val_loss: 0.1078 - val_accuracy: 0.9754\n",
      "Epoch 53/1000\n",
      "35/35 [==============================] - ETA: 0s - loss: 0.3521 - accuracy: 0.8656\n",
      "Epoch 53: saving model to model/keypoint_classifier/keypoint_classifier.hdf5\n",
      "35/35 [==============================] - 0s 8ms/step - loss: 0.3521 - accuracy: 0.8656 - val_loss: 0.1217 - val_accuracy: 0.9685\n",
      "Epoch 54/1000\n",
      "35/35 [==============================] - ETA: 0s - loss: 0.3498 - accuracy: 0.8722\n",
      "Epoch 54: saving model to model/keypoint_classifier/keypoint_classifier.hdf5\n",
      "35/35 [==============================] - 0s 8ms/step - loss: 0.3498 - accuracy: 0.8722 - val_loss: 0.1153 - val_accuracy: 0.9713\n",
      "Epoch 55/1000\n",
      "30/35 [========================>.....] - ETA: 0s - loss: 0.3317 - accuracy: 0.8802\n",
      "Epoch 55: saving model to model/keypoint_classifier/keypoint_classifier.hdf5\n",
      "35/35 [==============================] - 0s 9ms/step - loss: 0.3279 - accuracy: 0.8813 - val_loss: 0.1123 - val_accuracy: 0.9706\n",
      "Epoch 56/1000\n",
      "29/35 [=======================>......] - ETA: 0s - loss: 0.3358 - accuracy: 0.8836\n",
      "Epoch 56: saving model to model/keypoint_classifier/keypoint_classifier.hdf5\n",
      "35/35 [==============================] - 0s 9ms/step - loss: 0.3371 - accuracy: 0.8820 - val_loss: 0.1066 - val_accuracy: 0.9726\n",
      "Epoch 57/1000\n",
      "30/35 [========================>.....] - ETA: 0s - loss: 0.3339 - accuracy: 0.8768\n",
      "Epoch 57: saving model to model/keypoint_classifier/keypoint_classifier.hdf5\n",
      "35/35 [==============================] - 0s 9ms/step - loss: 0.3301 - accuracy: 0.8765 - val_loss: 0.1124 - val_accuracy: 0.9685\n",
      "Epoch 58/1000\n",
      "25/35 [====================>.........] - ETA: 0s - loss: 0.3299 - accuracy: 0.8813\n",
      "Epoch 58: saving model to model/keypoint_classifier/keypoint_classifier.hdf5\n",
      "35/35 [==============================] - 0s 10ms/step - loss: 0.3395 - accuracy: 0.8768 - val_loss: 0.1073 - val_accuracy: 0.9747\n",
      "Epoch 59/1000\n",
      "32/35 [==========================>...] - ETA: 0s - loss: 0.3102 - accuracy: 0.8848\n",
      "Epoch 59: saving model to model/keypoint_classifier/keypoint_classifier.hdf5\n",
      "35/35 [==============================] - 0s 9ms/step - loss: 0.3120 - accuracy: 0.8850 - val_loss: 0.1028 - val_accuracy: 0.9740\n",
      "Epoch 60/1000\n",
      "31/35 [=========================>....] - ETA: 0s - loss: 0.3408 - accuracy: 0.8727\n",
      "Epoch 60: saving model to model/keypoint_classifier/keypoint_classifier.hdf5\n",
      "35/35 [==============================] - 0s 13ms/step - loss: 0.3346 - accuracy: 0.8745 - val_loss: 0.0997 - val_accuracy: 0.9774\n",
      "Epoch 61/1000\n",
      "30/35 [========================>.....] - ETA: 0s - loss: 0.3327 - accuracy: 0.8747\n",
      "Epoch 61: saving model to model/keypoint_classifier/keypoint_classifier.hdf5\n",
      "35/35 [==============================] - 0s 9ms/step - loss: 0.3363 - accuracy: 0.8749 - val_loss: 0.1028 - val_accuracy: 0.9767\n",
      "Epoch 62/1000\n",
      "29/35 [=======================>......] - ETA: 0s - loss: 0.3211 - accuracy: 0.8852\n",
      "Epoch 62: saving model to model/keypoint_classifier/keypoint_classifier.hdf5\n",
      "35/35 [==============================] - 0s 9ms/step - loss: 0.3257 - accuracy: 0.8829 - val_loss: 0.1196 - val_accuracy: 0.9678\n",
      "Epoch 63/1000\n",
      "34/35 [============================>.] - ETA: 0s - loss: 0.2979 - accuracy: 0.8929\n",
      "Epoch 63: saving model to model/keypoint_classifier/keypoint_classifier.hdf5\n",
      "35/35 [==============================] - 0s 12ms/step - loss: 0.2979 - accuracy: 0.8927 - val_loss: 0.1060 - val_accuracy: 0.9699\n",
      "Epoch 64/1000\n",
      "35/35 [==============================] - ETA: 0s - loss: 0.3245 - accuracy: 0.8836\n",
      "Epoch 64: saving model to model/keypoint_classifier/keypoint_classifier.hdf5\n",
      "35/35 [==============================] - 0s 14ms/step - loss: 0.3245 - accuracy: 0.8836 - val_loss: 0.1038 - val_accuracy: 0.9740\n",
      "Epoch 65/1000\n",
      "32/35 [==========================>...] - ETA: 0s - loss: 0.3066 - accuracy: 0.8904\n",
      "Epoch 65: saving model to model/keypoint_classifier/keypoint_classifier.hdf5\n",
      "35/35 [==============================] - 0s 11ms/step - loss: 0.3084 - accuracy: 0.8884 - val_loss: 0.1017 - val_accuracy: 0.9733\n",
      "Epoch 66/1000\n",
      "30/35 [========================>.....] - ETA: 0s - loss: 0.3254 - accuracy: 0.8833\n",
      "Epoch 66: saving model to model/keypoint_classifier/keypoint_classifier.hdf5\n",
      "35/35 [==============================] - 0s 11ms/step - loss: 0.3250 - accuracy: 0.8848 - val_loss: 0.1134 - val_accuracy: 0.9678\n",
      "Epoch 67/1000\n",
      "35/35 [==============================] - ETA: 0s - loss: 0.3096 - accuracy: 0.8857\n",
      "Epoch 67: saving model to model/keypoint_classifier/keypoint_classifier.hdf5\n",
      "35/35 [==============================] - 0s 10ms/step - loss: 0.3096 - accuracy: 0.8857 - val_loss: 0.1026 - val_accuracy: 0.9733\n",
      "Epoch 68/1000\n",
      "28/35 [=======================>......] - ETA: 0s - loss: 0.3025 - accuracy: 0.8870\n",
      "Epoch 68: saving model to model/keypoint_classifier/keypoint_classifier.hdf5\n",
      "35/35 [==============================] - 0s 9ms/step - loss: 0.3037 - accuracy: 0.8857 - val_loss: 0.1065 - val_accuracy: 0.9706\n",
      "Epoch 69/1000\n",
      "29/35 [=======================>......] - ETA: 0s - loss: 0.3244 - accuracy: 0.8812\n",
      "Epoch 69: saving model to model/keypoint_classifier/keypoint_classifier.hdf5\n",
      "35/35 [==============================] - 0s 10ms/step - loss: 0.3277 - accuracy: 0.8784 - val_loss: 0.1017 - val_accuracy: 0.9781\n",
      "Epoch 70/1000\n",
      "30/35 [========================>.....] - ETA: 0s - loss: 0.3091 - accuracy: 0.8859\n",
      "Epoch 70: saving model to model/keypoint_classifier/keypoint_classifier.hdf5\n",
      "35/35 [==============================] - 0s 9ms/step - loss: 0.3063 - accuracy: 0.8861 - val_loss: 0.1085 - val_accuracy: 0.9699\n",
      "Epoch 71/1000\n",
      "28/35 [=======================>......] - ETA: 0s - loss: 0.3117 - accuracy: 0.8903\n",
      "Epoch 71: saving model to model/keypoint_classifier/keypoint_classifier.hdf5\n",
      "35/35 [==============================] - 0s 9ms/step - loss: 0.3097 - accuracy: 0.8918 - val_loss: 0.1053 - val_accuracy: 0.9706\n",
      "Epoch 72/1000\n",
      "29/35 [=======================>......] - ETA: 0s - loss: 0.2969 - accuracy: 0.8925\n",
      "Epoch 72: saving model to model/keypoint_classifier/keypoint_classifier.hdf5\n",
      "35/35 [==============================] - 0s 9ms/step - loss: 0.3031 - accuracy: 0.8891 - val_loss: 0.0842 - val_accuracy: 0.9815\n",
      "Epoch 73/1000\n",
      "31/35 [=========================>....] - ETA: 0s - loss: 0.3178 - accuracy: 0.8848\n",
      "Epoch 73: saving model to model/keypoint_classifier/keypoint_classifier.hdf5\n",
      "35/35 [==============================] - 0s 10ms/step - loss: 0.3129 - accuracy: 0.8861 - val_loss: 0.1002 - val_accuracy: 0.9747\n",
      "Epoch 74/1000\n",
      "32/35 [==========================>...] - ETA: 0s - loss: 0.3044 - accuracy: 0.8879\n",
      "Epoch 74: saving model to model/keypoint_classifier/keypoint_classifier.hdf5\n",
      "35/35 [==============================] - 0s 12ms/step - loss: 0.3057 - accuracy: 0.8882 - val_loss: 0.1054 - val_accuracy: 0.9719\n",
      "Epoch 75/1000\n",
      "31/35 [=========================>....] - ETA: 0s - loss: 0.3264 - accuracy: 0.8770\n",
      "Epoch 75: saving model to model/keypoint_classifier/keypoint_classifier.hdf5\n",
      "35/35 [==============================] - 0s 11ms/step - loss: 0.3211 - accuracy: 0.8791 - val_loss: 0.1051 - val_accuracy: 0.9719\n",
      "Epoch 76/1000\n",
      "35/35 [==============================] - ETA: 0s - loss: 0.3054 - accuracy: 0.8875\n",
      "Epoch 76: saving model to model/keypoint_classifier/keypoint_classifier.hdf5\n",
      "35/35 [==============================] - 0s 11ms/step - loss: 0.3054 - accuracy: 0.8875 - val_loss: 0.0934 - val_accuracy: 0.9774\n",
      "Epoch 77/1000\n",
      "29/35 [=======================>......] - ETA: 0s - loss: 0.3006 - accuracy: 0.8882\n",
      "Epoch 77: saving model to model/keypoint_classifier/keypoint_classifier.hdf5\n",
      "35/35 [==============================] - 0s 10ms/step - loss: 0.2983 - accuracy: 0.8880 - val_loss: 0.0982 - val_accuracy: 0.9774\n",
      "Epoch 78/1000\n",
      "33/35 [===========================>..] - ETA: 0s - loss: 0.3050 - accuracy: 0.8897\n",
      "Epoch 78: saving model to model/keypoint_classifier/keypoint_classifier.hdf5\n",
      "35/35 [==============================] - 0s 12ms/step - loss: 0.3055 - accuracy: 0.8893 - val_loss: 0.1047 - val_accuracy: 0.9699\n",
      "Epoch 79/1000\n",
      "35/35 [==============================] - ETA: 0s - loss: 0.2991 - accuracy: 0.8875\n",
      "Epoch 79: saving model to model/keypoint_classifier/keypoint_classifier.hdf5\n",
      "35/35 [==============================] - 0s 10ms/step - loss: 0.2991 - accuracy: 0.8875 - val_loss: 0.0979 - val_accuracy: 0.9747\n",
      "Epoch 80/1000\n",
      "34/35 [============================>.] - ETA: 0s - loss: 0.3025 - accuracy: 0.8883\n",
      "Epoch 80: saving model to model/keypoint_classifier/keypoint_classifier.hdf5\n",
      "35/35 [==============================] - 0s 10ms/step - loss: 0.3022 - accuracy: 0.8886 - val_loss: 0.0950 - val_accuracy: 0.9802\n",
      "Epoch 81/1000\n",
      "25/35 [====================>.........] - ETA: 0s - loss: 0.3171 - accuracy: 0.8819\n",
      "Epoch 81: saving model to model/keypoint_classifier/keypoint_classifier.hdf5\n",
      "35/35 [==============================] - 0s 7ms/step - loss: 0.3198 - accuracy: 0.8811 - val_loss: 0.1164 - val_accuracy: 0.9671\n",
      "Epoch 82/1000\n",
      "27/35 [======================>.......] - ETA: 0s - loss: 0.2971 - accuracy: 0.8909\n",
      "Epoch 82: saving model to model/keypoint_classifier/keypoint_classifier.hdf5\n",
      "35/35 [==============================] - 0s 7ms/step - loss: 0.3001 - accuracy: 0.8854 - val_loss: 0.1004 - val_accuracy: 0.9719\n",
      "Epoch 83/1000\n",
      "29/35 [=======================>......] - ETA: 0s - loss: 0.2942 - accuracy: 0.8893\n",
      "Epoch 83: saving model to model/keypoint_classifier/keypoint_classifier.hdf5\n",
      "35/35 [==============================] - 0s 6ms/step - loss: 0.2895 - accuracy: 0.8914 - val_loss: 0.0922 - val_accuracy: 0.9767\n",
      "Epoch 84/1000\n",
      "26/35 [=====================>........] - ETA: 0s - loss: 0.3084 - accuracy: 0.8867\n",
      "Epoch 84: saving model to model/keypoint_classifier/keypoint_classifier.hdf5\n",
      "35/35 [==============================] - 0s 7ms/step - loss: 0.3061 - accuracy: 0.8882 - val_loss: 0.1067 - val_accuracy: 0.9713\n",
      "Epoch 85/1000\n",
      "27/35 [======================>.......] - ETA: 0s - loss: 0.2797 - accuracy: 0.8941\n",
      "Epoch 85: saving model to model/keypoint_classifier/keypoint_classifier.hdf5\n",
      "35/35 [==============================] - 0s 7ms/step - loss: 0.2894 - accuracy: 0.8902 - val_loss: 0.0932 - val_accuracy: 0.9781\n",
      "Epoch 86/1000\n",
      "34/35 [============================>.] - ETA: 0s - loss: 0.2992 - accuracy: 0.8895\n",
      "Epoch 86: saving model to model/keypoint_classifier/keypoint_classifier.hdf5\n",
      "35/35 [==============================] - 0s 8ms/step - loss: 0.2997 - accuracy: 0.8893 - val_loss: 0.0959 - val_accuracy: 0.9781\n",
      "Epoch 87/1000\n",
      "27/35 [======================>.......] - ETA: 0s - loss: 0.2866 - accuracy: 0.8929\n",
      "Epoch 87: saving model to model/keypoint_classifier/keypoint_classifier.hdf5\n",
      "35/35 [==============================] - 0s 8ms/step - loss: 0.2841 - accuracy: 0.8962 - val_loss: 0.0971 - val_accuracy: 0.9781\n",
      "Epoch 88/1000\n",
      "25/35 [====================>.........] - ETA: 0s - loss: 0.2867 - accuracy: 0.8913\n",
      "Epoch 88: saving model to model/keypoint_classifier/keypoint_classifier.hdf5\n",
      "35/35 [==============================] - 0s 8ms/step - loss: 0.2854 - accuracy: 0.8907 - val_loss: 0.0913 - val_accuracy: 0.9726\n",
      "Epoch 89/1000\n",
      "30/35 [========================>.....] - ETA: 0s - loss: 0.2927 - accuracy: 0.8857\n",
      "Epoch 89: saving model to model/keypoint_classifier/keypoint_classifier.hdf5\n",
      "35/35 [==============================] - 0s 8ms/step - loss: 0.2913 - accuracy: 0.8877 - val_loss: 0.0976 - val_accuracy: 0.9747\n",
      "Epoch 90/1000\n",
      "26/35 [=====================>........] - ETA: 0s - loss: 0.2867 - accuracy: 0.8942\n",
      "Epoch 90: saving model to model/keypoint_classifier/keypoint_classifier.hdf5\n",
      "35/35 [==============================] - 0s 7ms/step - loss: 0.2895 - accuracy: 0.8907 - val_loss: 0.0939 - val_accuracy: 0.9781\n",
      "Epoch 91/1000\n",
      "25/35 [====================>.........] - ETA: 0s - loss: 0.2710 - accuracy: 0.8959\n",
      "Epoch 91: saving model to model/keypoint_classifier/keypoint_classifier.hdf5\n",
      "35/35 [==============================] - 0s 7ms/step - loss: 0.2807 - accuracy: 0.8950 - val_loss: 0.0880 - val_accuracy: 0.9815\n",
      "Epoch 92/1000\n",
      "26/35 [=====================>........] - ETA: 0s - loss: 0.3041 - accuracy: 0.8846\n",
      "Epoch 92: saving model to model/keypoint_classifier/keypoint_classifier.hdf5\n",
      "35/35 [==============================] - 0s 7ms/step - loss: 0.3044 - accuracy: 0.8827 - val_loss: 0.1044 - val_accuracy: 0.9747\n",
      "Epoch 92: early stopping\n"
     ]
    },
    {
     "data": {
      "text/plain": [
       "<keras.callbacks.History at 0x7f7c2f3e5430>"
      ]
     },
     "execution_count": 162,
     "metadata": {},
     "output_type": "execute_result"
    }
   ],
   "source": [
    "model.fit(\n",
    "    X_train,\n",
    "    y_train,\n",
    "    epochs=1000,\n",
    "    batch_size=128,\n",
    "    validation_data=(X_test, y_test),\n",
    "    callbacks=[cp_callback, es_callback]\n",
    ")"
   ]
  },
  {
   "cell_type": "code",
   "execution_count": 164,
   "metadata": {},
   "outputs": [
    {
     "name": "stdout",
     "output_type": "stream",
     "text": [
      "12/12 [==============================] - 0s 5ms/step - loss: 0.1044 - accuracy: 0.9747\n"
     ]
    }
   ],
   "source": [
    "# モデル評価\n",
    "val_loss, val_acc = model.evaluate(X_test, y_test, batch_size=128)"
   ]
  },
  {
   "cell_type": "code",
   "execution_count": 165,
   "metadata": {},
   "outputs": [],
   "source": [
    "# 保存したモデルのロード\n",
    "model = tf.keras.models.load_model(model_save_path)"
   ]
  },
  {
   "cell_type": "code",
   "execution_count": 166,
   "metadata": {},
   "outputs": [
    {
     "name": "stdout",
     "output_type": "stream",
     "text": [
      "1/1 [==============================] - 0s 133ms/step\n",
      "[8.5312152e-10 4.3584243e-04 5.1814334e-07 9.7937876e-01 2.0184889e-02]\n",
      "3\n"
     ]
    }
   ],
   "source": [
    "# 推論テスト\n",
    "predict_result = model.predict(np.array([X_test[0]]))\n",
    "print(np.squeeze(predict_result))\n",
    "print(np.argmax(np.squeeze(predict_result)))"
   ]
  },
  {
   "attachments": {},
   "cell_type": "markdown",
   "metadata": {},
   "source": [
    "# Confusion Matrix"
   ]
  },
  {
   "cell_type": "code",
   "execution_count": 167,
   "metadata": {},
   "outputs": [
    {
     "name": "stdout",
     "output_type": "stream",
     "text": [
      "46/46 [==============================] - 0s 5ms/step\n"
     ]
    },
    {
     "data": {
      "image/png": "[encoded data removed]",
      "text/plain": [
       "<Figure size 700x600 with 2 Axes>"
      ]
     },
     "metadata": {},
     "output_type": "display_data"
    },
    {
     "name": "stdout",
     "output_type": "stream",
     "text": [
      "Classification Report\n",
      "              precision    recall  f1-score   support\n",
      "\n",
      "           0       1.00      1.00      1.00       176\n",
      "           1       1.00      1.00      1.00       162\n",
      "           2       1.00      0.94      0.97       242\n",
      "           3       0.92      1.00      0.96       251\n",
      "           4       0.98      0.97      0.97       630\n",
      "\n",
      "    accuracy                           0.97      1461\n",
      "   macro avg       0.98      0.98      0.98      1461\n",
      "weighted avg       0.98      0.97      0.97      1461\n",
      "\n"
     ]
    }
   ],
   "source": [
    "import pandas as pd\n",
    "import seaborn as sns\n",
    "import matplotlib.pyplot as plt\n",
    "from sklearn.metrics import confusion_matrix, classification_report\n",
    "\n",
    "def print_confusion_matrix(y_true, y_pred, report=True):\n",
    "    labels = sorted(list(set(y_true)))\n",
    "    cmx_data = confusion_matrix(y_true, y_pred, labels=labels)\n",
    "    \n",
    "    df_cmx = pd.DataFrame(cmx_data, index=labels, columns=labels)\n",
    " \n",
    "    fig, ax = plt.subplots(figsize=(7, 6))\n",
    "    sns.heatmap(df_cmx, annot=True, fmt='g' ,square=False)\n",
    "    ax.set_ylim(len(set(y_true)), 0)\n",
    "    plt.show()\n",
    "    \n",
    "    if report:\n",
    "        print('Classification Report')\n",
    "        print(classification_report(y_test, y_pred))\n",
    "\n",
    "Y_pred = model.predict(X_test)\n",
    "y_pred = np.argmax(Y_pred, axis=1)\n",
    "\n",
    "print_confusion_matrix(y_test, y_pred)\n"
   ]
  },
  {
   "attachments": {},
   "cell_type": "markdown",
   "metadata": {},
   "source": [
    "# Tensorflow-Lite"
   ]
  },
  {
   "cell_type": "code",
   "execution_count": 168,
   "metadata": {},
   "outputs": [],
   "source": [
    "# 推論専用のモデルとして保存\n",
    "model.save(model_save_path, include_optimizer=False)"
   ]
  },
  {
   "cell_type": "code",
   "execution_count": 169,
   "metadata": {},
   "outputs": [
    {
     "name": "stderr",
     "output_type": "stream",
     "text": [
      "2023-03-31 15:54:54.362978: I tensorflow/core/common_runtime/executor.cc:1197] [/device:CPU:0] (DEBUG INFO) Executor start aborting (this does not indicate an error and you can ignore this message): INVALID_ARGUMENT: You must feed a value for placeholder tensor 'input_9' with dtype float and shape [?,42]\n",
      "\t [[{{node input_9}}]]\n",
      "2023-03-31 15:54:54.671323: I tensorflow/core/common_runtime/executor.cc:1197] [/device:CPU:0] (DEBUG INFO) Executor start aborting (this does not indicate an error and you can ignore this message): INVALID_ARGUMENT: You must feed a value for placeholder tensor 'inputs' with dtype float and shape [?,42]\n",
      "\t [[{{node inputs}}]]\n",
      "2023-03-31 15:54:54.737163: I tensorflow/core/common_runtime/executor.cc:1197] [/device:CPU:0] (DEBUG INFO) Executor start aborting (this does not indicate an error and you can ignore this message): INVALID_ARGUMENT: You must feed a value for placeholder tensor 'input_9' with dtype float and shape [?,42]\n",
      "\t [[{{node input_9}}]]\n",
      "2023-03-31 15:54:54.885881: I tensorflow/core/common_runtime/executor.cc:1197] [/device:CPU:0] (DEBUG INFO) Executor start aborting (this does not indicate an error and you can ignore this message): INVALID_ARGUMENT: You must feed a value for placeholder tensor 'inputs' with dtype float and shape [?,42]\n",
      "\t [[{{node inputs}}]]\n",
      "2023-03-31 15:54:54.953229: I tensorflow/core/common_runtime/executor.cc:1197] [/device:CPU:0] (DEBUG INFO) Executor start aborting (this does not indicate an error and you can ignore this message): INVALID_ARGUMENT: You must feed a value for placeholder tensor 'inputs' with dtype float and shape [?,20]\n",
      "\t [[{{node inputs}}]]\n",
      "2023-03-31 15:54:55.043342: I tensorflow/core/common_runtime/executor.cc:1197] [/device:CPU:0] (DEBUG INFO) Executor start aborting (this does not indicate an error and you can ignore this message): INVALID_ARGUMENT: You must feed a value for placeholder tensor 'inputs' with dtype float and shape [?,42]\n",
      "\t [[{{node inputs}}]]\n",
      "2023-03-31 15:54:55.160767: I tensorflow/core/common_runtime/executor.cc:1197] [/device:CPU:0] (DEBUG INFO) Executor start aborting (this does not indicate an error and you can ignore this message): INVALID_ARGUMENT: You must feed a value for placeholder tensor 'inputs' with dtype float and shape [?,42]\n",
      "\t [[{{node inputs}}]]\n",
      "2023-03-31 15:54:55.286573: I tensorflow/core/common_runtime/executor.cc:1197] [/device:CPU:0] (DEBUG INFO) Executor start aborting (this does not indicate an error and you can ignore this message): INVALID_ARGUMENT: You must feed a value for placeholder tensor 'inputs' with dtype float and shape [?,42]\n",
      "\t [[{{node inputs}}]]\n",
      "2023-03-31 15:54:55.387121: I tensorflow/core/common_runtime/executor.cc:1197] [/device:CPU:0] (DEBUG INFO) Executor start aborting (this does not indicate an error and you can ignore this message): INVALID_ARGUMENT: You must feed a value for placeholder tensor 'inputs' with dtype float and shape [?,20]\n",
      "\t [[{{node inputs}}]]\n",
      "WARNING:absl:Found untraced functions such as _update_step_xla while saving (showing 1 of 1). These functions will not be directly callable after loading.\n"
     ]
    },
    {
     "name": "stdout",
     "output_type": "stream",
     "text": [
      "INFO:tensorflow:Assets written to: /tmp/tmp3gxr7fad/assets\n"
     ]
    },
    {
     "name": "stderr",
     "output_type": "stream",
     "text": [
      "INFO:tensorflow:Assets written to: /tmp/tmp3gxr7fad/assets\n",
      "2023-03-31 15:54:57.180180: W tensorflow/compiler/mlir/lite/python/tf_tfl_flatbuffer_helpers.cc:364] Ignored output_format.\n",
      "2023-03-31 15:54:57.180283: W tensorflow/compiler/mlir/lite/python/tf_tfl_flatbuffer_helpers.cc:367] Ignored drop_control_dependency.\n",
      "2023-03-31 15:54:57.181959: I tensorflow/cc/saved_model/reader.cc:45] Reading SavedModel from: /tmp/tmp3gxr7fad\n",
      "2023-03-31 15:54:57.183785: I tensorflow/cc/saved_model/reader.cc:89] Reading meta graph with tags { serve }\n",
      "2023-03-31 15:54:57.183840: I tensorflow/cc/saved_model/reader.cc:130] Reading SavedModel debug info (if present) from: /tmp/tmp3gxr7fad\n",
      "2023-03-31 15:54:57.194014: I tensorflow/cc/saved_model/loader.cc:231] Restoring SavedModel bundle.\n",
      "2023-03-31 15:54:57.282325: I tensorflow/cc/saved_model/loader.cc:215] Running initialization op on SavedModel bundle at path: /tmp/tmp3gxr7fad\n",
      "2023-03-31 15:54:57.301693: I tensorflow/cc/saved_model/loader.cc:314] SavedModel load for tags { serve }; Status: success: OK. Took 119748 microseconds.\n"
     ]
    },
    {
     "data": {
      "text/plain": [
       "6652"
      ]
     },
     "execution_count": 169,
     "metadata": {},
     "output_type": "execute_result"
    }
   ],
   "source": [
    "# モデルを変換(量子化)\n",
    "tflite_save_path = 'model/keypoint_classifier/keypoint_classifier.tflite'\n",
    "\n",
    "converter = tf.lite.TFLiteConverter.from_keras_model(model)\n",
    "converter.optimizations = [tf.lite.Optimize.DEFAULT]\n",
    "tflite_quantized_model = converter.convert()\n",
    "\n",
    "open(tflite_save_path, 'wb').write(tflite_quantized_model)"
   ]
  },
  {
   "attachments": {},
   "cell_type": "markdown",
   "metadata": {},
   "source": [
    "# Reasoning Test"
   ]
  },
  {
   "cell_type": "code",
   "execution_count": 170,
   "metadata": {},
   "outputs": [],
   "source": [
    "interpreter = tf.lite.Interpreter(model_path=tflite_save_path)\n",
    "interpreter.allocate_tensors()"
   ]
  },
  {
   "cell_type": "code",
   "execution_count": 171,
   "metadata": {},
   "outputs": [],
   "source": [
    "# 入出力テンソルを取得\n",
    "input_details = interpreter.get_input_details()\n",
    "output_details = interpreter.get_output_details()"
   ]
  },
  {
   "cell_type": "code",
   "execution_count": 172,
   "metadata": {},
   "outputs": [],
   "source": [
    "interpreter.set_tensor(input_details[0]['index'], np.array([X_test[0]]))"
   ]
  },
  {
   "cell_type": "code",
   "execution_count": 173,
   "metadata": {
    "scrolled": true
   },
   "outputs": [
    {
     "name": "stdout",
     "output_type": "stream",
     "text": [
      "CPU times: user 261 µs, sys: 19 µs, total: 280 µs\n",
      "Wall time: 241 µs\n"
     ]
    }
   ],
   "source": [
    "%%time\n",
    "# 推論実施\n",
    "interpreter.invoke()\n",
    "tflite_results = interpreter.get_tensor(output_details[0]['index'])"
   ]
  },
  {
   "cell_type": "code",
   "execution_count": null,
   "metadata": {},
   "outputs": [
    {
     "name": "stdout",
     "output_type": "stream",
     "text": [
      "[0.7729778  0.16973573 0.05728643]\n",
      "0\n"
     ]
    }
   ],
   "source": [
    "print(np.squeeze(tflite_results))\n",
    "print(np.argmax(np.squeeze(tflite_results)))"
   ]
  }
 ],
 "metadata": {
  "kernelspec": {
   "display_name": "Python 3",
   "language": "python",
   "name": "python3"
  },
  "language_info": {
   "codemirror_mode": {
    "name": "ipython",
    "version": 3
   },
   "file_extension": ".py",
   "mimetype": "text/x-python",
   "name": "python",
   "nbconvert_exporter": "python",
   "pygments_lexer": "ipython3",
   "version": "3.8.10"
  }
 },
 "nbformat": 4,
 "nbformat_minor": 4
}
